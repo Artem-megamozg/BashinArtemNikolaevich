{
 "cells": [
  {
   "cell_type": "code",
   "execution_count": 16,
   "metadata": {},
   "outputs": [],
   "source": [
    "import sys\n",
    "!{sys.executable} -m pip install --quiet opencv-python azure-cognitiveservices-vision-face\n"
   ]
  },
  {
   "cell_type": "code",
   "execution_count": 17,
   "metadata": {},
   "outputs": [],
   "source": [
    "key = '6bc7f05e83d542e89310f3e35c30c872' # ключ выглядит примерно так: 'e408f9b7c8e349ee8f335567432df30'\n",
    "endpoint = 'https://itfest-task3.cognitiveservices.azure.com/' # убедитесь, что конечная точка правильная"
   ]
  },
  {
   "cell_type": "code",
   "execution_count": 18,
   "metadata": {},
   "outputs": [
    {
     "name": "stdout",
     "output_type": "stream",
     "text": [
      "{'pupil_left': {'x': 268.3, 'y': 173.7}, 'pupil_right': {'x': 322.8, 'y': 172.6}, 'nose_tip': {'x': 297.6, 'y': 210.9}, 'mouth_left': {'x': 273.6, 'y': 229.4}, 'mouth_right': {'x': 328.9, 'y': 228.6}, 'eyebrow_left_outer': {'x': 243.9, 'y': 170.2}, 'eyebrow_left_inner': {'x': 279.4, 'y': 166.3}, 'eye_left_outer': {'x': 259.8, 'y': 175.1}, 'eye_left_top': {'x': 268.6, 'y': 170.8}, 'eye_left_bottom': {'x': 269.3, 'y': 177.4}, 'eye_left_inner': {'x': 277.0, 'y': 174.6}, 'eyebrow_right_inner': {'x': 306.7, 'y': 166.0}, 'eyebrow_right_outer': {'x': 345.8, 'y': 167.3}, 'eye_right_inner': {'x': 314.0, 'y': 173.9}, 'eye_right_top': {'x': 322.8, 'y': 168.9}, 'eye_right_bottom': {'x': 323.3, 'y': 176.0}, 'eye_right_outer': {'x': 331.1, 'y': 173.5}, 'nose_root_left': {'x': 287.6, 'y': 177.7}, 'nose_root_right': {'x': 303.4, 'y': 177.3}, 'nose_left_alar_top': {'x': 283.5, 'y': 198.3}, 'nose_right_alar_top': {'x': 308.6, 'y': 197.3}, 'nose_left_alar_out_tip': {'x': 278.5, 'y': 208.6}, 'nose_right_alar_out_tip': {'x': 316.4, 'y': 208.1}, 'upper_lip_top': {'x': 298.5, 'y': 225.9}, 'upper_lip_bottom': {'x': 298.5, 'y': 230.5}, 'under_lip_top': {'x': 299.2, 'y': 234.2}, 'under_lip_bottom': {'x': 300.1, 'y': 240.1}}\n"
     ]
    }
   ],
   "source": [
    "import azure.cognitiveservices.vision.face as cf\n",
    "from msrest.authentication import CognitiveServicesCredentials\n",
    "cli = cf.FaceClient(endpoint,CognitiveServicesCredentials(key))\n",
    "face_url = 'https://st3.depositphotos.com/9881890/13396/i/600/depositphotos_133960224-stock-photo-smiling-young-man.jpg'\n",
    "res = cli.face.detect_with_url(face_url,return_face_landmarks=True)\n",
    "print(res[0].face_landmarks.as_dict())"
   ]
  },
  {
   "cell_type": "code",
   "execution_count": 1,
   "metadata": {},
   "outputs": [
    {
     "ename": "NameError",
     "evalue": "name 'glob' is not defined",
     "output_type": "error",
     "traceback": [
      "\u001b[1;31m---------------------------------------------------------------------------\u001b[0m",
      "\u001b[1;31mNameError\u001b[0m                                 Traceback (most recent call last)",
      "\u001b[1;32m<ipython-input-1-0b8b05c2396b>\u001b[0m in \u001b[0;36m<module>\u001b[1;34m\u001b[0m\n\u001b[0;32m      3\u001b[0m     \u001b[1;32mreturn\u001b[0m \u001b[0mcv2\u001b[0m\u001b[1;33m.\u001b[0m\u001b[0mcvtColor\u001b[0m\u001b[1;33m(\u001b[0m\u001b[0mim\u001b[0m\u001b[1;33m,\u001b[0m\u001b[0mcv2\u001b[0m\u001b[1;33m.\u001b[0m\u001b[0mCOLOR_BGR2RGB\u001b[0m\u001b[1;33m)\u001b[0m \u001b[1;32mif\u001b[0m \u001b[0mim\u001b[0m \u001b[1;32mis\u001b[0m \u001b[1;32mnot\u001b[0m \u001b[1;32mNone\u001b[0m \u001b[1;32melse\u001b[0m \u001b[1;32mNone\u001b[0m\u001b[1;33m\u001b[0m\u001b[1;33m\u001b[0m\u001b[0m\n\u001b[0;32m      4\u001b[0m \u001b[1;33m\u001b[0m\u001b[0m\n\u001b[1;32m----> 5\u001b[1;33m \u001b[0mfn\u001b[0m \u001b[1;33m=\u001b[0m \u001b[0mglob\u001b[0m\u001b[1;33m.\u001b[0m\u001b[0mglob\u001b[0m\u001b[1;33m(\u001b[0m\u001b[1;34m'images/*'\u001b[0m\u001b[1;33m)\u001b[0m\u001b[1;33m[\u001b[0m\u001b[1;36m0\u001b[0m\u001b[1;33m]\u001b[0m\u001b[1;33m\u001b[0m\u001b[1;33m\u001b[0m\u001b[0m\n\u001b[0m\u001b[0;32m      6\u001b[0m \u001b[0mprint\u001b[0m\u001b[1;33m(\u001b[0m\u001b[1;34m'Анализируем изображение: '\u001b[0m\u001b[1;33m,\u001b[0m\u001b[0mfn\u001b[0m\u001b[1;33m)\u001b[0m\u001b[1;33m\u001b[0m\u001b[1;33m\u001b[0m\u001b[0m\n\u001b[0;32m      7\u001b[0m \u001b[1;33m\u001b[0m\u001b[0m\n",
      "\u001b[1;31mNameError\u001b[0m: name 'glob' is not defined"
     ]
    }
   ],
   "source": [
    "def imread(fn):\n",
    "    im = cv2.imread(fn)\n",
    "    return cv2.cvtColor(im,cv2.COLOR_BGR2RGB) if im is not None else None\n",
    "\n",
    "fn = glob.glob('images/*')[0]\n",
    "print('Анализируем изображение: ',fn)\n",
    "\n",
    "img = imread(fn)\n",
    "cli.face.detect_with_url(face_url)\n",
    "with open(fn,'rb') as f:\n",
    "    res = cli.face.detect_with_stream(f,return_face_landmarks=True)\n",
    "for k,v in res[0].face_landmarks.as_dict().items():\n",
    "    cv2.circle(img,(int(v['x']),int(v['y'])),7,(255,255,0),5)\n",
    "plt.imshow(img)"
   ]
  },
  {
   "cell_type": "code",
   "execution_count": null,
   "metadata": {},
   "outputs": [],
   "source": []
  }
 ],
 "metadata": {
  "kernelspec": {
   "display_name": "Python 3",
   "language": "python",
   "name": "python3"
  },
  "language_info": {
   "codemirror_mode": {
    "name": "ipython",
    "version": 3
   },
   "file_extension": ".py",
   "mimetype": "text/x-python",
   "name": "python",
   "nbconvert_exporter": "python",
   "pygments_lexer": "ipython3",
   "version": "3.8.3"
  }
 },
 "nbformat": 4,
 "nbformat_minor": 4
}
