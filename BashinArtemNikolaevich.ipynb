{
 "cells": [
  {
   "cell_type": "code",
   "execution_count": 16,
   "metadata": {},
   "outputs": [],
   "source": [
    "import sys\n",
    "!{sys.executable} -m pip install --quiet opencv-python azure-cognitiveservices-vision-face\n"
   ]
  },
  {
   "cell_type": "code",
   "execution_count": 17,
   "metadata": {},
   "outputs": [],
   "source": [
    "key = '6bc7f05e83d542e89310f3e35c30c872' # ключ выглядит примерно так: 'e408f9b7c8e349ee8f335567432df30'\n",
    "endpoint = 'https://itfest-task3.cognitiveservices.azure.com/' # убедитесь, что конечная точка правильная"
   ]
  },
  {
   "cell_type": "code",
   "execution_count": 18,
   "metadata": {},
   "outputs": [
    {
     "name": "stdout",
     "output_type": "stream",
     "text": [
      "{'pupil_left': {'x': 268.3, 'y': 173.7}, 'pupil_right': {'x': 322.8, 'y': 172.6}, 'nose_tip': {'x': 297.6, 'y': 210.9}, 'mouth_left': {'x': 273.6, 'y': 229.4}, 'mouth_right': {'x': 328.9, 'y': 228.6}, 'eyebrow_left_outer': {'x': 243.9, 'y': 170.2}, 'eyebrow_left_inner': {'x': 279.4, 'y': 166.3}, 'eye_left_outer': {'x': 259.8, 'y': 175.1}, 'eye_left_top': {'x': 268.6, 'y': 170.8}, 'eye_left_bottom': {'x': 269.3, 'y': 177.4}, 'eye_left_inner': {'x': 277.0, 'y': 174.6}, 'eyebrow_right_inner': {'x': 306.7, 'y': 166.0}, 'eyebrow_right_outer': {'x': 345.8, 'y': 167.3}, 'eye_right_inner': {'x': 314.0, 'y': 173.9}, 'eye_right_top': {'x': 322.8, 'y': 168.9}, 'eye_right_bottom': {'x': 323.3, 'y': 176.0}, 'eye_right_outer': {'x': 331.1, 'y': 173.5}, 'nose_root_left': {'x': 287.6, 'y': 177.7}, 'nose_root_right': {'x': 303.4, 'y': 177.3}, 'nose_left_alar_top': {'x': 283.5, 'y': 198.3}, 'nose_right_alar_top': {'x': 308.6, 'y': 197.3}, 'nose_left_alar_out_tip': {'x': 278.5, 'y': 208.6}, 'nose_right_alar_out_tip': {'x': 316.4, 'y': 208.1}, 'upper_lip_top': {'x': 298.5, 'y': 225.9}, 'upper_lip_bottom': {'x': 298.5, 'y': 230.5}, 'under_lip_top': {'x': 299.2, 'y': 234.2}, 'under_lip_bottom': {'x': 300.1, 'y': 240.1}}\n"
     ]
    }
   ],
   "source": [
    "import azure.cognitiveservices.vision.face as cf\n",
    "from msrest.authentication import CognitiveServicesCredentials\n",
    "cli = cf.FaceClient(endpoint,CognitiveServicesCredentials(key))\n",
    "face_url = 'https://st3.depositphotos.com/9881890/13396/i/600/depositphotos_133960224-stock-photo-smiling-young-man.jpg'\n",
    "res = cli.face.detect_with_url(face_url,return_face_landmarks=True)\n",
    "print(res[0].face_landmarks.as_dict())"
   ]
  },
  {
   "cell_type": "code",
   "execution_count": null,
   "metadata": {},
   "outputs": [],
   "source": []
  }
 ],
 "metadata": {
  "kernelspec": {
   "display_name": "Python 3",
   "language": "python",
   "name": "python3"
  },
  "language_info": {
   "codemirror_mode": {
    "name": "ipython",
    "version": 3
   },
   "file_extension": ".py",
   "mimetype": "text/x-python",
   "name": "python",
   "nbconvert_exporter": "python",
   "pygments_lexer": "ipython3",
   "version": "3.8.5"
  }
 },
 "nbformat": 4,
 "nbformat_minor": 4
}
